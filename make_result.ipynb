{
 "cells": [
  {
   "cell_type": "code",
   "execution_count": null,
   "metadata": {},
   "outputs": [],
   "source": [
    "import numpy as np\n",
    "from kNN import kNN, get_accuracy"
   ]
  },
  {
   "cell_type": "code",
   "execution_count": null,
   "metadata": {},
   "outputs": [],
   "source": [
    "dataset = []\n",
    "NUM_DATASET = 1\n",
    "K_VALUE = 7"
   ]
  },
  {
   "cell_type": "code",
   "execution_count": null,
   "metadata": {},
   "outputs": [],
   "source": [
    "for i in range(NUM_DATASET):\n",
    "    name = \"./dataset/dataset\" + str(i+1)\n",
    "    train = np.loadtxt(name+\"_train.csv\", delimiter= \",\")\n",
    "    test = np.loadtxt(name+\"_test.csv\", delimiter= \",\")\n",
    "\n",
    "    dataset.append((train, test))"
   ]
  },
  {
   "cell_type": "code",
   "execution_count": null,
   "metadata": {},
   "outputs": [],
   "source": [
    "resultset = []\n",
    "for i in range(NUM_DATASET):\n",
    "    print(str(i+1) + \"th dataset\")\n",
    "    resultset.append(kNN(dataset[i][0], dataset[i][1], K_VALUE, show_process=False, has_answer=True))"
   ]
  },
  {
   "cell_type": "code",
   "execution_count": null,
   "metadata": {},
   "outputs": [],
   "source": [
    "path = \"./k\" + str(K_VALUE) + \"/\"\n",
    "for i in range(NUM_DATASET):\n",
    "    name = path + \"result\" + str(i+1) + \".csv\"\n",
    "    np.savetxt(name+\"_result.csv\", resultset[i], delimiter= \",\")"
   ]
  },
  {
   "cell_type": "code",
   "execution_count": null,
   "metadata": {},
   "outputs": [],
   "source": [
    "accuracy = np.array([[i+1 for i in range(NUM_DATASET)], [0 for _ in range(NUM_DATASET)]])\n",
    "for i in range(NUM_DATASET):\n",
    "    accuracy[1][i] = get_accuracy(resultset[i])\n",
    "np.savetxt(path+\"accuracy.csv\", accuracy, delimiter= \",\")"
   ]
  }
 ],
 "metadata": {
  "interpreter": {
   "hash": "b3ba2566441a7c06988d0923437866b63cedc61552a5af99d1f4fb67d367b25f"
  },
  "kernelspec": {
   "display_name": "Python 3.9.7 ('base')",
   "language": "python",
   "name": "python3"
  },
  "language_info": {
   "codemirror_mode": {
    "name": "ipython",
    "version": 3
   },
   "file_extension": ".py",
   "mimetype": "text/x-python",
   "name": "python",
   "nbconvert_exporter": "python",
   "pygments_lexer": "ipython3",
   "version": "3.9.7"
  },
  "orig_nbformat": 4
 },
 "nbformat": 4,
 "nbformat_minor": 2
}
