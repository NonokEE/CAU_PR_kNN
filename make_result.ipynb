{
 "cells": [
  {
   "cell_type": "code",
   "execution_count": 1,
   "metadata": {},
   "outputs": [],
   "source": [
    "import numpy as np\n",
    "from kNN import kNN, get_accuracy"
   ]
  },
  {
   "cell_type": "code",
   "execution_count": 2,
   "metadata": {},
   "outputs": [],
   "source": [
    "dataset = []\n",
    "NUM_DATASET = 10\n",
    "K_VALUE = 3"
   ]
  },
  {
   "cell_type": "code",
   "execution_count": 3,
   "metadata": {},
   "outputs": [],
   "source": [
    "for i in range(NUM_DATASET):\n",
    "    name = \"./dataset/dataset\" + str(i+1)\n",
    "    train = np.loadtxt(name+\"_train.csv\", delimiter= \",\")\n",
    "    test = np.loadtxt(name+\"_test.csv\", delimiter= \",\")\n",
    "\n",
    "    dataset.append((train, test))"
   ]
  },
  {
   "cell_type": "code",
   "execution_count": 4,
   "metadata": {},
   "outputs": [
    {
     "name": "stdout",
     "output_type": "stream",
     "text": [
      "1th dataset\n",
      "2th dataset\n",
      "3th dataset\n",
      "4th dataset\n",
      "5th dataset\n",
      "6th dataset\n",
      "7th dataset\n",
      "8th dataset\n",
      "9th dataset\n",
      "10th dataset\n"
     ]
    }
   ],
   "source": [
    "resultset = []\n",
    "for i in range(NUM_DATASET):\n",
    "    print(str(i+1) + \"th dataset\")\n",
    "    resultset.append(kNN(dataset[i][0], dataset[i][1], K_VALUE, show_process=False, has_answer=True))"
   ]
  },
  {
   "cell_type": "code",
   "execution_count": 5,
   "metadata": {},
   "outputs": [],
   "source": [
    "path = \"./k\" + str(K_VALUE) + \"/\"\n",
    "for i in range(NUM_DATASET):\n",
    "    name = path + \"result\" + str(i+1) + \".csv\"\n",
    "    np.savetxt(name+\"_result.csv\", resultset[i], delimiter= \",\")"
   ]
  },
  {
   "cell_type": "code",
   "execution_count": 6,
   "metadata": {},
   "outputs": [
    {
     "name": "stdout",
     "output_type": "stream",
     "text": [
      "accuracy: 0.624000\n",
      "accuracy: 0.625500\n",
      "accuracy: 0.626000\n",
      "accuracy: 0.635000\n",
      "accuracy: 0.632000\n",
      "accuracy: 0.622000\n",
      "accuracy: 0.616500\n",
      "accuracy: 0.646500\n",
      "accuracy: 0.637500\n",
      "accuracy: 0.631500\n"
     ]
    }
   ],
   "source": [
    "accuracy = np.array([[i+1 for i in range(NUM_DATASET)], [0 for _ in range(NUM_DATASET)]])\n",
    "for i in range(NUM_DATASET):\n",
    "    accuracy[1][i] = get_accuracy(resultset[i])\n",
    "np.savetxt(path+\"accuracy.csv\", accuracy, delimiter= \",\")"
   ]
  }
 ],
 "metadata": {
  "interpreter": {
   "hash": "b3ba2566441a7c06988d0923437866b63cedc61552a5af99d1f4fb67d367b25f"
  },
  "kernelspec": {
   "display_name": "Python 3.9.7 ('base')",
   "language": "python",
   "name": "python3"
  },
  "language_info": {
   "codemirror_mode": {
    "name": "ipython",
    "version": 3
   },
   "file_extension": ".py",
   "mimetype": "text/x-python",
   "name": "python",
   "nbconvert_exporter": "python",
   "pygments_lexer": "ipython3",
   "version": "3.9.7"
  },
  "orig_nbformat": 4
 },
 "nbformat": 4,
 "nbformat_minor": 2
}
