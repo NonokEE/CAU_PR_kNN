{
 "cells": [
  {
   "cell_type": "markdown",
   "metadata": {},
   "source": [
    "# CAU_PR_kNN Classifier\n",
    "### 20165732 kim yoon hyuk"
   ]
  },
  {
   "cell_type": "markdown",
   "metadata": {},
   "source": [
    "## Load data"
   ]
  },
  {
   "cell_type": "code",
   "execution_count": 35,
   "metadata": {},
   "outputs": [],
   "source": [
    "import numpy as np"
   ]
  },
  {
   "cell_type": "code",
   "execution_count": 36,
   "metadata": {},
   "outputs": [
    {
     "name": "stdout",
     "output_type": "stream",
     "text": [
      "(20000, 7)\n"
     ]
    }
   ],
   "source": [
    "data = np.loadtxt(\"satisfaction_data.csv\", delimiter=\",\", dtype=np.float32)\n",
    "print(data.shape)"
   ]
  },
  {
   "cell_type": "markdown",
   "metadata": {},
   "source": [
    "## Suffle and choose data set"
   ]
  },
  {
   "cell_type": "code",
   "execution_count": 42,
   "metadata": {},
   "outputs": [],
   "source": [
    "shuffled_data = []\n",
    "\n",
    "for _ in range(10):\n",
    "    temp = data.copy()\n",
    "    np.random.shuffle(temp)\n",
    "    train_set = temp[:18000]\n",
    "    test_set = temp[18000:]\n",
    "    shuffled_data.append((train_set, test_set))"
   ]
  },
  {
   "cell_type": "code",
   "execution_count": 43,
   "metadata": {},
   "outputs": [
    {
     "name": "stdout",
     "output_type": "stream",
     "text": [
      "[4.00000e+01 2.00000e+00 1.00000e+00 1.12497e+05 3.70000e+01 1.40000e+01\n",
      " 1.00000e+00]\n",
      "[6.00000e+01 2.00000e+00 2.00000e+00 1.17963e+05 3.10000e+01 9.00000e+00\n",
      " 0.00000e+00]\n",
      "[4.0000e+01 2.0000e+00 1.0000e+00 4.8093e+04 3.8000e+01 9.0000e+00\n",
      " 0.0000e+00]\n",
      "[5.50000e+01 1.00000e+00 1.00000e+00 2.09752e+05 4.20000e+01 1.50000e+01\n",
      " 1.00000e+00]\n",
      "[4.0000e+01 2.0000e+00 1.0000e+00 8.4547e+04 2.8000e+01 1.3000e+01\n",
      " 1.0000e+00]\n",
      "[4.00000e+01 2.00000e+00 1.00000e+00 1.92835e+05 4.50000e+01 1.00000e+01\n",
      " 0.00000e+00]\n",
      "[4.30000e+01 2.00000e+00 1.00000e+00 1.22076e+05 3.80000e+01 1.00000e+01\n",
      " 1.00000e+00]\n",
      "[5.50000e+01 5.00000e+00 2.00000e+00 2.55503e+05 3.70000e+01 1.50000e+01\n",
      " 1.00000e+00]\n",
      "[4.00000e+01 1.00000e+00 1.00000e+00 2.83921e+05 3.40000e+01 9.00000e+00\n",
      " 0.00000e+00]\n",
      "[4.50000e+01 2.00000e+00 1.00000e+00 2.82023e+05 5.60000e+01 1.50000e+01\n",
      " 1.00000e+00]\n"
     ]
    }
   ],
   "source": [
    "for i in range(10):\n",
    "    print(shuffled_data[i][0][0])\n"
   ]
  }
 ],
 "metadata": {
  "interpreter": {
   "hash": "b3ba2566441a7c06988d0923437866b63cedc61552a5af99d1f4fb67d367b25f"
  },
  "kernelspec": {
   "display_name": "Python 3.9.7 ('base')",
   "language": "python",
   "name": "python3"
  },
  "language_info": {
   "codemirror_mode": {
    "name": "ipython",
    "version": 3
   },
   "file_extension": ".py",
   "mimetype": "text/x-python",
   "name": "python",
   "nbconvert_exporter": "python",
   "pygments_lexer": "ipython3",
   "version": "3.9.7"
  },
  "orig_nbformat": 4
 },
 "nbformat": 4,
 "nbformat_minor": 2
}
